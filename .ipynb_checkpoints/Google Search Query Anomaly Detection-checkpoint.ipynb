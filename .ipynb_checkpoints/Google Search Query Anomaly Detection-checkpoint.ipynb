{
 "cells": [
  {
   "cell_type": "markdown",
   "id": "ff70ab79",
   "metadata": {},
   "source": [
    "## 1. Import the libraries:"
   ]
  },
  {
   "cell_type": "code",
   "execution_count": 1,
   "id": "42e69d8d",
   "metadata": {},
   "outputs": [],
   "source": [
    "import pandas as pd\n",
    "import numpy as np\n",
    "import matplotlib.pyplot as plt\n",
    "import re\n",
    "from collections import Counter\n",
    "%matplotlib inline"
   ]
  },
  {
   "cell_type": "markdown",
   "id": "190c748a",
   "metadata": {},
   "source": [
    "## 2. Load the dataset:"
   ]
  },
  {
   "cell_type": "code",
   "execution_count": 2,
   "id": "16715982",
   "metadata": {},
   "outputs": [
    {
     "data": {
      "text/html": [
       "<div>\n",
       "<style scoped>\n",
       "    .dataframe tbody tr th:only-of-type {\n",
       "        vertical-align: middle;\n",
       "    }\n",
       "\n",
       "    .dataframe tbody tr th {\n",
       "        vertical-align: top;\n",
       "    }\n",
       "\n",
       "    .dataframe thead th {\n",
       "        text-align: right;\n",
       "    }\n",
       "</style>\n",
       "<table border=\"1\" class=\"dataframe\">\n",
       "  <thead>\n",
       "    <tr style=\"text-align: right;\">\n",
       "      <th></th>\n",
       "      <th>Top queries</th>\n",
       "      <th>Clicks</th>\n",
       "      <th>Impressions</th>\n",
       "      <th>CTR</th>\n",
       "      <th>Position</th>\n",
       "    </tr>\n",
       "  </thead>\n",
       "  <tbody>\n",
       "    <tr>\n",
       "      <th>0</th>\n",
       "      <td>number guessing game python</td>\n",
       "      <td>5223</td>\n",
       "      <td>14578</td>\n",
       "      <td>35.83%</td>\n",
       "      <td>1.61</td>\n",
       "    </tr>\n",
       "    <tr>\n",
       "      <th>1</th>\n",
       "      <td>thecleverprogrammer</td>\n",
       "      <td>2809</td>\n",
       "      <td>3456</td>\n",
       "      <td>81.28%</td>\n",
       "      <td>1.02</td>\n",
       "    </tr>\n",
       "  </tbody>\n",
       "</table>\n",
       "</div>"
      ],
      "text/plain": [
       "                   Top queries  Clicks  Impressions     CTR  Position\n",
       "0  number guessing game python    5223        14578  35.83%      1.61\n",
       "1          thecleverprogrammer    2809         3456  81.28%      1.02"
      ]
     },
     "execution_count": 2,
     "metadata": {},
     "output_type": "execute_result"
    }
   ],
   "source": [
    "data = pd.read_csv(\"Queries.csv\")\n",
    "data.head(2)"
   ]
  },
  {
   "cell_type": "markdown",
   "id": "bc10b520",
   "metadata": {},
   "source": [
    "## 3. Exploratory Data Analysis:"
   ]
  },
  {
   "cell_type": "markdown",
   "id": "a062a477",
   "metadata": {},
   "source": [
    "The datatypes of the features:"
   ]
  },
  {
   "cell_type": "code",
   "execution_count": 3,
   "id": "f9226fee",
   "metadata": {},
   "outputs": [
    {
     "name": "stdout",
     "output_type": "stream",
     "text": [
      "<class 'pandas.core.frame.DataFrame'>\n",
      "RangeIndex: 1000 entries, 0 to 999\n",
      "Data columns (total 5 columns):\n",
      " #   Column       Non-Null Count  Dtype  \n",
      "---  ------       --------------  -----  \n",
      " 0   Top queries  1000 non-null   object \n",
      " 1   Clicks       1000 non-null   int64  \n",
      " 2   Impressions  1000 non-null   int64  \n",
      " 3   CTR          1000 non-null   object \n",
      " 4   Position     1000 non-null   float64\n",
      "dtypes: float64(1), int64(2), object(2)\n",
      "memory usage: 39.2+ KB\n"
     ]
    }
   ],
   "source": [
    "data.info()"
   ]
  },
  {
   "cell_type": "markdown",
   "id": "638be4ea",
   "metadata": {},
   "source": [
    "Check for any Null-Values:"
   ]
  },
  {
   "cell_type": "code",
   "execution_count": 4,
   "id": "b216b60f",
   "metadata": {},
   "outputs": [
    {
     "data": {
      "text/plain": [
       "Top queries    0\n",
       "Clicks         0\n",
       "Impressions    0\n",
       "CTR            0\n",
       "Position       0\n",
       "dtype: int64"
      ]
     },
     "execution_count": 4,
     "metadata": {},
     "output_type": "execute_result"
    }
   ],
   "source": [
    "data.isna().sum()"
   ]
  },
  {
   "cell_type": "markdown",
   "id": "e9aaf165",
   "metadata": {},
   "source": [
    "There is no any null data."
   ]
  },
  {
   "cell_type": "markdown",
   "id": "9646ff7d",
   "metadata": {},
   "source": [
    "The **CTR** seems to have object data type, to perform any operations in the future, let's convert it to float type:"
   ]
  },
  {
   "cell_type": "code",
   "execution_count": 5,
   "id": "17520417",
   "metadata": {},
   "outputs": [
    {
     "name": "stdout",
     "output_type": "stream",
     "text": [
      "<class 'pandas.core.frame.DataFrame'>\n",
      "RangeIndex: 1000 entries, 0 to 999\n",
      "Data columns (total 5 columns):\n",
      " #   Column       Non-Null Count  Dtype  \n",
      "---  ------       --------------  -----  \n",
      " 0   Top queries  1000 non-null   object \n",
      " 1   Clicks       1000 non-null   int64  \n",
      " 2   Impressions  1000 non-null   int64  \n",
      " 3   CTR          1000 non-null   float64\n",
      " 4   Position     1000 non-null   float64\n",
      "dtypes: float64(2), int64(2), object(1)\n",
      "memory usage: 39.2+ KB\n"
     ]
    }
   ],
   "source": [
    "data['CTR'] = data['CTR'].str.rstrip(\"%\").astype('float')/100\n",
    "data.info()"
   ]
  },
  {
   "cell_type": "code",
   "execution_count": 6,
   "id": "5c73bfbe",
   "metadata": {},
   "outputs": [
    {
     "data": {
      "text/html": [
       "<div>\n",
       "<style scoped>\n",
       "    .dataframe tbody tr th:only-of-type {\n",
       "        vertical-align: middle;\n",
       "    }\n",
       "\n",
       "    .dataframe tbody tr th {\n",
       "        vertical-align: top;\n",
       "    }\n",
       "\n",
       "    .dataframe thead th {\n",
       "        text-align: right;\n",
       "    }\n",
       "</style>\n",
       "<table border=\"1\" class=\"dataframe\">\n",
       "  <thead>\n",
       "    <tr style=\"text-align: right;\">\n",
       "      <th></th>\n",
       "      <th>Top queries</th>\n",
       "      <th>Clicks</th>\n",
       "      <th>Impressions</th>\n",
       "      <th>CTR</th>\n",
       "      <th>Position</th>\n",
       "    </tr>\n",
       "  </thead>\n",
       "  <tbody>\n",
       "    <tr>\n",
       "      <th>0</th>\n",
       "      <td>number guessing game python</td>\n",
       "      <td>5223</td>\n",
       "      <td>14578</td>\n",
       "      <td>0.3583</td>\n",
       "      <td>1.61</td>\n",
       "    </tr>\n",
       "    <tr>\n",
       "      <th>1</th>\n",
       "      <td>thecleverprogrammer</td>\n",
       "      <td>2809</td>\n",
       "      <td>3456</td>\n",
       "      <td>0.8128</td>\n",
       "      <td>1.02</td>\n",
       "    </tr>\n",
       "    <tr>\n",
       "      <th>2</th>\n",
       "      <td>python projects with source code</td>\n",
       "      <td>2077</td>\n",
       "      <td>73380</td>\n",
       "      <td>0.0283</td>\n",
       "      <td>5.94</td>\n",
       "    </tr>\n",
       "    <tr>\n",
       "      <th>3</th>\n",
       "      <td>classification report in machine learning</td>\n",
       "      <td>2012</td>\n",
       "      <td>4959</td>\n",
       "      <td>0.4057</td>\n",
       "      <td>1.28</td>\n",
       "    </tr>\n",
       "    <tr>\n",
       "      <th>4</th>\n",
       "      <td>the clever programmer</td>\n",
       "      <td>1931</td>\n",
       "      <td>2528</td>\n",
       "      <td>0.7638</td>\n",
       "      <td>1.09</td>\n",
       "    </tr>\n",
       "  </tbody>\n",
       "</table>\n",
       "</div>"
      ],
      "text/plain": [
       "                                 Top queries  Clicks  Impressions     CTR  \\\n",
       "0                number guessing game python    5223        14578  0.3583   \n",
       "1                        thecleverprogrammer    2809         3456  0.8128   \n",
       "2           python projects with source code    2077        73380  0.0283   \n",
       "3  classification report in machine learning    2012         4959  0.4057   \n",
       "4                      the clever programmer    1931         2528  0.7638   \n",
       "\n",
       "   Position  \n",
       "0      1.61  \n",
       "1      1.02  \n",
       "2      5.94  \n",
       "3      1.28  \n",
       "4      1.09  "
      ]
     },
     "execution_count": 6,
     "metadata": {},
     "output_type": "execute_result"
    }
   ],
   "source": [
    "data.head(5)"
   ]
  },
  {
   "cell_type": "markdown",
   "id": "4a4e0286",
   "metadata": {},
   "source": [
    "## 4. Count the most frequent words from the query:"
   ]
  },
  {
   "cell_type": "code",
   "execution_count": 7,
   "id": "5f39e163",
   "metadata": {},
   "outputs": [],
   "source": [
    "# A function to find words and split them and discard punctuations:\n",
    "def split_into_tokens(query):\n",
    "    words = re.findall(r'\\b[a-z]+\\b', query.lower())\n",
    "    return words\n",
    "\n",
    "\n",
    "# Creating a counter to count the word frequency:\n",
    "word_frequency = Counter()\n",
    "for query in data['Top queries']:\n",
    "    word_frequency.update(split_into_tokens(query))"
   ]
  },
  {
   "cell_type": "markdown",
   "id": "11fd621e",
   "metadata": {},
   "source": [
    "#### The top 20 most common words:"
   ]
  },
  {
   "cell_type": "code",
   "execution_count": 8,
   "id": "62aea7fa",
   "metadata": {},
   "outputs": [
    {
     "data": {
      "text/html": [
       "<div>\n",
       "<style scoped>\n",
       "    .dataframe tbody tr th:only-of-type {\n",
       "        vertical-align: middle;\n",
       "    }\n",
       "\n",
       "    .dataframe tbody tr th {\n",
       "        vertical-align: top;\n",
       "    }\n",
       "\n",
       "    .dataframe thead th {\n",
       "        text-align: right;\n",
       "    }\n",
       "</style>\n",
       "<table border=\"1\" class=\"dataframe\">\n",
       "  <thead>\n",
       "    <tr style=\"text-align: right;\">\n",
       "      <th></th>\n",
       "      <th>Words</th>\n",
       "      <th>Counts</th>\n",
       "    </tr>\n",
       "  </thead>\n",
       "  <tbody>\n",
       "    <tr>\n",
       "      <th>0</th>\n",
       "      <td>python</td>\n",
       "      <td>562</td>\n",
       "    </tr>\n",
       "    <tr>\n",
       "      <th>1</th>\n",
       "      <td>in</td>\n",
       "      <td>232</td>\n",
       "    </tr>\n",
       "    <tr>\n",
       "      <th>2</th>\n",
       "      <td>code</td>\n",
       "      <td>138</td>\n",
       "    </tr>\n",
       "    <tr>\n",
       "      <th>3</th>\n",
       "      <td>learning</td>\n",
       "      <td>133</td>\n",
       "    </tr>\n",
       "    <tr>\n",
       "      <th>4</th>\n",
       "      <td>machine</td>\n",
       "      <td>123</td>\n",
       "    </tr>\n",
       "    <tr>\n",
       "      <th>5</th>\n",
       "      <td>using</td>\n",
       "      <td>105</td>\n",
       "    </tr>\n",
       "    <tr>\n",
       "      <th>6</th>\n",
       "      <td>game</td>\n",
       "      <td>103</td>\n",
       "    </tr>\n",
       "    <tr>\n",
       "      <th>7</th>\n",
       "      <td>number</td>\n",
       "      <td>95</td>\n",
       "    </tr>\n",
       "    <tr>\n",
       "      <th>8</th>\n",
       "      <td>to</td>\n",
       "      <td>82</td>\n",
       "    </tr>\n",
       "    <tr>\n",
       "      <th>9</th>\n",
       "      <td>prediction</td>\n",
       "      <td>70</td>\n",
       "    </tr>\n",
       "    <tr>\n",
       "      <th>10</th>\n",
       "      <td>project</td>\n",
       "      <td>68</td>\n",
       "    </tr>\n",
       "    <tr>\n",
       "      <th>11</th>\n",
       "      <td>analysis</td>\n",
       "      <td>66</td>\n",
       "    </tr>\n",
       "    <tr>\n",
       "      <th>12</th>\n",
       "      <td>with</td>\n",
       "      <td>53</td>\n",
       "    </tr>\n",
       "    <tr>\n",
       "      <th>13</th>\n",
       "      <td>the</td>\n",
       "      <td>50</td>\n",
       "    </tr>\n",
       "    <tr>\n",
       "      <th>14</th>\n",
       "      <td>how</td>\n",
       "      <td>50</td>\n",
       "    </tr>\n",
       "    <tr>\n",
       "      <th>15</th>\n",
       "      <td>c</td>\n",
       "      <td>49</td>\n",
       "    </tr>\n",
       "    <tr>\n",
       "      <th>16</th>\n",
       "      <td>detection</td>\n",
       "      <td>45</td>\n",
       "    </tr>\n",
       "    <tr>\n",
       "      <th>17</th>\n",
       "      <td>guessing</td>\n",
       "      <td>43</td>\n",
       "    </tr>\n",
       "    <tr>\n",
       "      <th>18</th>\n",
       "      <td>source</td>\n",
       "      <td>43</td>\n",
       "    </tr>\n",
       "    <tr>\n",
       "      <th>19</th>\n",
       "      <td>classification</td>\n",
       "      <td>43</td>\n",
       "    </tr>\n",
       "  </tbody>\n",
       "</table>\n",
       "</div>"
      ],
      "text/plain": [
       "             Words  Counts\n",
       "0           python     562\n",
       "1               in     232\n",
       "2             code     138\n",
       "3         learning     133\n",
       "4          machine     123\n",
       "5            using     105\n",
       "6             game     103\n",
       "7           number      95\n",
       "8               to      82\n",
       "9       prediction      70\n",
       "10         project      68\n",
       "11        analysis      66\n",
       "12            with      53\n",
       "13             the      50\n",
       "14             how      50\n",
       "15               c      49\n",
       "16       detection      45\n",
       "17        guessing      43\n",
       "18          source      43\n",
       "19  classification      43"
      ]
     },
     "execution_count": 8,
     "metadata": {},
     "output_type": "execute_result"
    }
   ],
   "source": [
    "top_20_common_df = pd.DataFrame(word_frequency.most_common(20), columns=[\"Words\", \"Counts\"])\n",
    "top_20_common_df.head(20)"
   ]
  },
  {
   "cell_type": "code",
   "execution_count": 9,
   "id": "28670b16",
   "metadata": {},
   "outputs": [
    {
     "data": {
      "image/png": "[encoded data removed]",
      "text/plain": [
       "<Figure size 1440x576 with 1 Axes>"
      ]
     },
     "metadata": {
      "needs_background": "light"
     },
     "output_type": "display_data"
    }
   ],
   "source": [
    "plt.figure(figsize=(20, 8))\n",
    "bars = plt.bar(top_20_common_df.Words, top_20_common_df.Counts)\n",
    "plt.bar_label(bars)\n",
    "plt.title(\"Top 20 most common words in the query\")\n",
    "plt.xlabel(\"Words\")\n",
    "plt.ylabel(\"Frequency\")\n",
    "plt.show()"
   ]
  },
  {
   "cell_type": "code",
   "execution_count": 10,
   "id": "160a7ef4",
   "metadata": {},
   "outputs": [
    {
     "data": {
      "text/html": [
       "<div>\n",
       "<style scoped>\n",
       "    .dataframe tbody tr th:only-of-type {\n",
       "        vertical-align: middle;\n",
       "    }\n",
       "\n",
       "    .dataframe tbody tr th {\n",
       "        vertical-align: top;\n",
       "    }\n",
       "\n",
       "    .dataframe thead th {\n",
       "        text-align: right;\n",
       "    }\n",
       "</style>\n",
       "<table border=\"1\" class=\"dataframe\">\n",
       "  <thead>\n",
       "    <tr style=\"text-align: right;\">\n",
       "      <th></th>\n",
       "      <th>Top queries</th>\n",
       "      <th>Clicks</th>\n",
       "      <th>Impressions</th>\n",
       "      <th>CTR</th>\n",
       "      <th>Position</th>\n",
       "    </tr>\n",
       "  </thead>\n",
       "  <tbody>\n",
       "    <tr>\n",
       "      <th>0</th>\n",
       "      <td>number guessing game python</td>\n",
       "      <td>5223</td>\n",
       "      <td>14578</td>\n",
       "      <td>0.3583</td>\n",
       "      <td>1.61</td>\n",
       "    </tr>\n",
       "    <tr>\n",
       "      <th>1</th>\n",
       "      <td>thecleverprogrammer</td>\n",
       "      <td>2809</td>\n",
       "      <td>3456</td>\n",
       "      <td>0.8128</td>\n",
       "      <td>1.02</td>\n",
       "    </tr>\n",
       "    <tr>\n",
       "      <th>2</th>\n",
       "      <td>python projects with source code</td>\n",
       "      <td>2077</td>\n",
       "      <td>73380</td>\n",
       "      <td>0.0283</td>\n",
       "      <td>5.94</td>\n",
       "    </tr>\n",
       "    <tr>\n",
       "      <th>3</th>\n",
       "      <td>classification report in machine learning</td>\n",
       "      <td>2012</td>\n",
       "      <td>4959</td>\n",
       "      <td>0.4057</td>\n",
       "      <td>1.28</td>\n",
       "    </tr>\n",
       "    <tr>\n",
       "      <th>4</th>\n",
       "      <td>the clever programmer</td>\n",
       "      <td>1931</td>\n",
       "      <td>2528</td>\n",
       "      <td>0.7638</td>\n",
       "      <td>1.09</td>\n",
       "    </tr>\n",
       "  </tbody>\n",
       "</table>\n",
       "</div>"
      ],
      "text/plain": [
       "                                 Top queries  Clicks  Impressions     CTR  \\\n",
       "0                number guessing game python    5223        14578  0.3583   \n",
       "1                        thecleverprogrammer    2809         3456  0.8128   \n",
       "2           python projects with source code    2077        73380  0.0283   \n",
       "3  classification report in machine learning    2012         4959  0.4057   \n",
       "4                      the clever programmer    1931         2528  0.7638   \n",
       "\n",
       "   Position  \n",
       "0      1.61  \n",
       "1      1.02  \n",
       "2      5.94  \n",
       "3      1.28  \n",
       "4      1.09  "
      ]
     },
     "execution_count": 10,
     "metadata": {},
     "output_type": "execute_result"
    }
   ],
   "source": [
    "data.head()"
   ]
  },
  {
   "cell_type": "markdown",
   "id": "45e06a71",
   "metadata": {},
   "source": [
    "#### Top 10 Queries and their Impressions based on the number of Clicks:"
   ]
  },
  {
   "cell_type": "code",
   "execution_count": 11,
   "id": "08ac1bad",
   "metadata": {},
   "outputs": [],
   "source": [
    "top_10_queries_clicks = data.nlargest(n=10, columns='Clicks')[['Top queries', 'Clicks']]\n",
    "top_10_queries_impression = data.nlargest(n=10, columns='Impressions')[['Top queries', 'Impressions']]"
   ]
  },
  {
   "cell_type": "code",
   "execution_count": 12,
   "id": "9e391a5d",
   "metadata": {},
   "outputs": [
    {
     "data": {
      "text/html": [
       "<div>\n",
       "<style scoped>\n",
       "    .dataframe tbody tr th:only-of-type {\n",
       "        vertical-align: middle;\n",
       "    }\n",
       "\n",
       "    .dataframe tbody tr th {\n",
       "        vertical-align: top;\n",
       "    }\n",
       "\n",
       "    .dataframe thead th {\n",
       "        text-align: right;\n",
       "    }\n",
       "</style>\n",
       "<table border=\"1\" class=\"dataframe\">\n",
       "  <thead>\n",
       "    <tr style=\"text-align: right;\">\n",
       "      <th></th>\n",
       "      <th>Top queries</th>\n",
       "      <th>Clicks</th>\n",
       "    </tr>\n",
       "  </thead>\n",
       "  <tbody>\n",
       "    <tr>\n",
       "      <th>0</th>\n",
       "      <td>number guessing game python</td>\n",
       "      <td>5223</td>\n",
       "    </tr>\n",
       "    <tr>\n",
       "      <th>1</th>\n",
       "      <td>thecleverprogrammer</td>\n",
       "      <td>2809</td>\n",
       "    </tr>\n",
       "    <tr>\n",
       "      <th>2</th>\n",
       "      <td>python projects with source code</td>\n",
       "      <td>2077</td>\n",
       "    </tr>\n",
       "    <tr>\n",
       "      <th>3</th>\n",
       "      <td>classification report in machine learning</td>\n",
       "      <td>2012</td>\n",
       "    </tr>\n",
       "    <tr>\n",
       "      <th>4</th>\n",
       "      <td>the clever programmer</td>\n",
       "      <td>1931</td>\n",
       "    </tr>\n",
       "    <tr>\n",
       "      <th>5</th>\n",
       "      <td>standard scaler in machine learning</td>\n",
       "      <td>1559</td>\n",
       "    </tr>\n",
       "    <tr>\n",
       "      <th>6</th>\n",
       "      <td>aman kharwal</td>\n",
       "      <td>1490</td>\n",
       "    </tr>\n",
       "    <tr>\n",
       "      <th>7</th>\n",
       "      <td>python turtle graphics code</td>\n",
       "      <td>1455</td>\n",
       "    </tr>\n",
       "    <tr>\n",
       "      <th>8</th>\n",
       "      <td>python game projects with source code</td>\n",
       "      <td>1421</td>\n",
       "    </tr>\n",
       "    <tr>\n",
       "      <th>9</th>\n",
       "      <td>82 python projects with source code</td>\n",
       "      <td>1343</td>\n",
       "    </tr>\n",
       "  </tbody>\n",
       "</table>\n",
       "</div>"
      ],
      "text/plain": [
       "                                 Top queries  Clicks\n",
       "0                number guessing game python    5223\n",
       "1                        thecleverprogrammer    2809\n",
       "2           python projects with source code    2077\n",
       "3  classification report in machine learning    2012\n",
       "4                      the clever programmer    1931\n",
       "5        standard scaler in machine learning    1559\n",
       "6                               aman kharwal    1490\n",
       "7                python turtle graphics code    1455\n",
       "8      python game projects with source code    1421\n",
       "9        82 python projects with source code    1343"
      ]
     },
     "execution_count": 12,
     "metadata": {},
     "output_type": "execute_result"
    }
   ],
   "source": [
    "top_10_queries_clicks"
   ]
  },
  {
   "cell_type": "code",
   "execution_count": 13,
   "id": "3bce489e",
   "metadata": {},
   "outputs": [
    {
     "data": {
      "text/html": [
       "<div>\n",
       "<style scoped>\n",
       "    .dataframe tbody tr th:only-of-type {\n",
       "        vertical-align: middle;\n",
       "    }\n",
       "\n",
       "    .dataframe tbody tr th {\n",
       "        vertical-align: top;\n",
       "    }\n",
       "\n",
       "    .dataframe thead th {\n",
       "        text-align: right;\n",
       "    }\n",
       "</style>\n",
       "<table border=\"1\" class=\"dataframe\">\n",
       "  <thead>\n",
       "    <tr style=\"text-align: right;\">\n",
       "      <th></th>\n",
       "      <th>Top queries</th>\n",
       "      <th>Impressions</th>\n",
       "    </tr>\n",
       "  </thead>\n",
       "  <tbody>\n",
       "    <tr>\n",
       "      <th>2</th>\n",
       "      <td>python projects with source code</td>\n",
       "      <td>73380</td>\n",
       "    </tr>\n",
       "    <tr>\n",
       "      <th>82</th>\n",
       "      <td>r2 score</td>\n",
       "      <td>56322</td>\n",
       "    </tr>\n",
       "    <tr>\n",
       "      <th>34</th>\n",
       "      <td>machine learning roadmap</td>\n",
       "      <td>42715</td>\n",
       "    </tr>\n",
       "    <tr>\n",
       "      <th>21</th>\n",
       "      <td>classification report</td>\n",
       "      <td>39896</td>\n",
       "    </tr>\n",
       "    <tr>\n",
       "      <th>232</th>\n",
       "      <td>standardscaler</td>\n",
       "      <td>39267</td>\n",
       "    </tr>\n",
       "    <tr>\n",
       "      <th>91</th>\n",
       "      <td>facebook programming languages</td>\n",
       "      <td>36055</td>\n",
       "    </tr>\n",
       "    <tr>\n",
       "      <th>15</th>\n",
       "      <td>rock paper scissors python</td>\n",
       "      <td>35824</td>\n",
       "    </tr>\n",
       "    <tr>\n",
       "      <th>36</th>\n",
       "      <td>pandas datareader</td>\n",
       "      <td>26663</td>\n",
       "    </tr>\n",
       "    <tr>\n",
       "      <th>180</th>\n",
       "      <td>classification_report</td>\n",
       "      <td>24917</td>\n",
       "    </tr>\n",
       "    <tr>\n",
       "      <th>54</th>\n",
       "      <td>pandas_datareader</td>\n",
       "      <td>24689</td>\n",
       "    </tr>\n",
       "  </tbody>\n",
       "</table>\n",
       "</div>"
      ],
      "text/plain": [
       "                          Top queries  Impressions\n",
       "2    python projects with source code        73380\n",
       "82                           r2 score        56322\n",
       "34           machine learning roadmap        42715\n",
       "21              classification report        39896\n",
       "232                    standardscaler        39267\n",
       "91     facebook programming languages        36055\n",
       "15         rock paper scissors python        35824\n",
       "36                  pandas datareader        26663\n",
       "180             classification_report        24917\n",
       "54                  pandas_datareader        24689"
      ]
     },
     "execution_count": 13,
     "metadata": {},
     "output_type": "execute_result"
    }
   ],
   "source": [
    "top_10_queries_impression"
   ]
  },
  {
   "cell_type": "markdown",
   "id": "e02443fb",
   "metadata": {},
   "source": [
    "#### Plotting the top 10 Queries based on clicks:"
   ]
  },
  {
   "cell_type": "code",
   "execution_count": 35,
   "id": "946cae78",
   "metadata": {},
   "outputs": [
    {
     "data": {
      "image/png": "[encoded data removed]",
      "text/plain": [
       "<Figure size 1584x576 with 1 Axes>"
      ]
     },
     "metadata": {
      "needs_background": "light"
     },
     "output_type": "display_data"
    }
   ],
   "source": [
    "plt.figure(figsize=(22, 8))\n",
    "bars = plt.bar(top_10_queries_clicks['Top queries'],  top_10_queries_clicks['Clicks'])\n",
    "plt.bar_label(bars)\n",
    "plt.xticks(rotation=-45, ha='left', fontsize=10)\n",
    "plt.title(\"Top 10 Queries based on the Clicks\")\n",
    "plt.xlabel(\"Top 10 Queries\")\n",
    "plt.ylabel(\"Clicks\")\n",
    "plt.show()"
   ]
  },
  {
   "cell_type": "code",
   "execution_count": 34,
   "id": "0d6cc773",
   "metadata": {},
   "outputs": [
    {
     "data": {
      "image/png": "[encoded data removed]",
      "text/plain": [
       "<Figure size 1584x576 with 1 Axes>"
      ]
     },
     "metadata": {
      "needs_background": "light"
     },
     "output_type": "display_data"
    }
   ],
   "source": [
    "plt.figure(figsize=(22, 8))\n",
    "bars = plt.bar(top_10_queries_impression['Top queries'], top_10_queries_impression['Impressions'])\n",
    "plt.bar_label(bars)\n",
    "plt.xticks(top_10_queries_impression['Top queries'], rotation=-45, ha='left')\n",
    "plt.xlabel(\"Top 10 Queries\")\n",
    "plt.ylabel(\"Impressions\")\n",
    "plt.title(\"Top 10 Queries based on the Impressions\")\n",
    "plt.show()"
   ]
  },
  {
   "cell_type": "code",
   "execution_count": null,
   "id": "aa58bd42",
   "metadata": {},
   "outputs": [],
   "source": []
  }
 ],
 "metadata": {
  "kernelspec": {
   "display_name": "Python 3 (ipykernel)",
   "language": "python",
   "name": "python3"
  },
  "language_info": {
   "codemirror_mode": {
    "name": "ipython",
    "version": 3
   },
   "file_extension": ".py",
   "mimetype": "text/x-python",
   "name": "python",
   "nbconvert_exporter": "python",
   "pygments_lexer": "ipython3",
   "version": "3.10.4"
  }
 },
 "nbformat": 4,
 "nbformat_minor": 5
}
