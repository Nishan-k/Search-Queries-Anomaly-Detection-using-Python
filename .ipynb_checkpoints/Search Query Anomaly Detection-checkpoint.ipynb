{
 "cells": [
  {
   "cell_type": "markdown",
   "id": "ff70ab79",
   "metadata": {},
   "source": [
    "## 1. Import the libraries:"
   ]
  },
  {
   "cell_type": "code",
   "execution_count": 3,
   "id": "42e69d8d",
   "metadata": {},
   "outputs": [],
   "source": [
    "import pandas as pd\n",
    "import numpy as np\n",
    "import matplotlib.pyplot as plt\n",
    "%matplotlib inline"
   ]
  },
  {
   "cell_type": "markdown",
   "id": "190c748a",
   "metadata": {},
   "source": [
    "## 2. Load the dataset:"
   ]
  },
  {
   "cell_type": "code",
   "execution_count": 20,
   "id": "16715982",
   "metadata": {},
   "outputs": [
    {
     "data": {
      "text/html": [
       "<div>\n",
       "<style scoped>\n",
       "    .dataframe tbody tr th:only-of-type {\n",
       "        vertical-align: middle;\n",
       "    }\n",
       "\n",
       "    .dataframe tbody tr th {\n",
       "        vertical-align: top;\n",
       "    }\n",
       "\n",
       "    .dataframe thead th {\n",
       "        text-align: right;\n",
       "    }\n",
       "</style>\n",
       "<table border=\"1\" class=\"dataframe\">\n",
       "  <thead>\n",
       "    <tr style=\"text-align: right;\">\n",
       "      <th></th>\n",
       "      <th>Top queries</th>\n",
       "      <th>Clicks</th>\n",
       "      <th>Impressions</th>\n",
       "      <th>CTR</th>\n",
       "      <th>Position</th>\n",
       "    </tr>\n",
       "  </thead>\n",
       "  <tbody>\n",
       "    <tr>\n",
       "      <th>0</th>\n",
       "      <td>number guessing game python</td>\n",
       "      <td>5223</td>\n",
       "      <td>14578</td>\n",
       "      <td>35.83%</td>\n",
       "      <td>1.61</td>\n",
       "    </tr>\n",
       "    <tr>\n",
       "      <th>1</th>\n",
       "      <td>thecleverprogrammer</td>\n",
       "      <td>2809</td>\n",
       "      <td>3456</td>\n",
       "      <td>81.28%</td>\n",
       "      <td>1.02</td>\n",
       "    </tr>\n",
       "  </tbody>\n",
       "</table>\n",
       "</div>"
      ],
      "text/plain": [
       "                   Top queries  Clicks  Impressions     CTR  Position\n",
       "0  number guessing game python    5223        14578  35.83%      1.61\n",
       "1          thecleverprogrammer    2809         3456  81.28%      1.02"
      ]
     },
     "execution_count": 20,
     "metadata": {},
     "output_type": "execute_result"
    }
   ],
   "source": [
    "data = pd.read_csv(\"Queries.csv\")\n",
    "data.head(2)"
   ]
  },
  {
   "cell_type": "markdown",
   "id": "bc10b520",
   "metadata": {},
   "source": [
    "## 3. Exploaratory Data Analysis:"
   ]
  },
  {
   "cell_type": "markdown",
   "id": "6806e1e0",
   "metadata": {},
   "source": [
    "The datatypes of the features:"
   ]
  },
  {
   "cell_type": "code",
   "execution_count": 5,
   "id": "53df13ec",
   "metadata": {},
   "outputs": [
    {
     "name": "stdout",
     "output_type": "stream",
     "text": [
      "<class 'pandas.core.frame.DataFrame'>\n",
      "RangeIndex: 1000 entries, 0 to 999\n",
      "Data columns (total 5 columns):\n",
      " #   Column       Non-Null Count  Dtype  \n",
      "---  ------       --------------  -----  \n",
      " 0   Top queries  1000 non-null   object \n",
      " 1   Clicks       1000 non-null   int64  \n",
      " 2   Impressions  1000 non-null   int64  \n",
      " 3   CTR          1000 non-null   object \n",
      " 4   Position     1000 non-null   float64\n",
      "dtypes: float64(1), int64(2), object(2)\n",
      "memory usage: 39.2+ KB\n"
     ]
    }
   ],
   "source": [
    "data.info()"
   ]
  },
  {
   "cell_type": "markdown",
   "id": "0faa1315",
   "metadata": {},
   "source": [
    "Check for any Null-Values:"
   ]
  },
  {
   "cell_type": "code",
   "execution_count": 6,
   "id": "a1f7bcd1",
   "metadata": {},
   "outputs": [
    {
     "data": {
      "text/plain": [
       "Top queries    0\n",
       "Clicks         0\n",
       "Impressions    0\n",
       "CTR            0\n",
       "Position       0\n",
       "dtype: int64"
      ]
     },
     "execution_count": 6,
     "metadata": {},
     "output_type": "execute_result"
    }
   ],
   "source": [
    "data.isna().sum()"
   ]
  },
  {
   "cell_type": "markdown",
   "id": "124b4410",
   "metadata": {},
   "source": [
    "There is no any null data."
   ]
  },
  {
   "cell_type": "markdown",
   "id": "7ba829b6",
   "metadata": {},
   "source": [
    "The **CTR** seems to have object data type, to perform any operations in the future, let's convert it to float type:"
   ]
  },
  {
   "cell_type": "code",
   "execution_count": 21,
   "id": "013f51b1",
   "metadata": {},
   "outputs": [
    {
     "name": "stdout",
     "output_type": "stream",
     "text": [
      "<class 'pandas.core.frame.DataFrame'>\n",
      "RangeIndex: 1000 entries, 0 to 999\n",
      "Data columns (total 5 columns):\n",
      " #   Column       Non-Null Count  Dtype  \n",
      "---  ------       --------------  -----  \n",
      " 0   Top queries  1000 non-null   object \n",
      " 1   Clicks       1000 non-null   int64  \n",
      " 2   Impressions  1000 non-null   int64  \n",
      " 3   CTR          1000 non-null   float64\n",
      " 4   Position     1000 non-null   float64\n",
      "dtypes: float64(2), int64(2), object(1)\n",
      "memory usage: 39.2+ KB\n"
     ]
    }
   ],
   "source": [
    "data['CTR'] = data['CTR'].str.rstrip(\"%\").astype('float')/100\n",
    "data.info()"
   ]
  },
  {
   "cell_type": "code",
   "execution_count": 23,
   "id": "b5a0c774",
   "metadata": {},
   "outputs": [
    {
     "data": {
      "text/html": [
       "<div>\n",
       "<style scoped>\n",
       "    .dataframe tbody tr th:only-of-type {\n",
       "        vertical-align: middle;\n",
       "    }\n",
       "\n",
       "    .dataframe tbody tr th {\n",
       "        vertical-align: top;\n",
       "    }\n",
       "\n",
       "    .dataframe thead th {\n",
       "        text-align: right;\n",
       "    }\n",
       "</style>\n",
       "<table border=\"1\" class=\"dataframe\">\n",
       "  <thead>\n",
       "    <tr style=\"text-align: right;\">\n",
       "      <th></th>\n",
       "      <th>Top queries</th>\n",
       "      <th>Clicks</th>\n",
       "      <th>Impressions</th>\n",
       "      <th>CTR</th>\n",
       "      <th>Position</th>\n",
       "    </tr>\n",
       "  </thead>\n",
       "  <tbody>\n",
       "    <tr>\n",
       "      <th>0</th>\n",
       "      <td>number guessing game python</td>\n",
       "      <td>5223</td>\n",
       "      <td>14578</td>\n",
       "      <td>0.3583</td>\n",
       "      <td>1.61</td>\n",
       "    </tr>\n",
       "    <tr>\n",
       "      <th>1</th>\n",
       "      <td>thecleverprogrammer</td>\n",
       "      <td>2809</td>\n",
       "      <td>3456</td>\n",
       "      <td>0.8128</td>\n",
       "      <td>1.02</td>\n",
       "    </tr>\n",
       "    <tr>\n",
       "      <th>2</th>\n",
       "      <td>python projects with source code</td>\n",
       "      <td>2077</td>\n",
       "      <td>73380</td>\n",
       "      <td>0.0283</td>\n",
       "      <td>5.94</td>\n",
       "    </tr>\n",
       "    <tr>\n",
       "      <th>3</th>\n",
       "      <td>classification report in machine learning</td>\n",
       "      <td>2012</td>\n",
       "      <td>4959</td>\n",
       "      <td>0.4057</td>\n",
       "      <td>1.28</td>\n",
       "    </tr>\n",
       "    <tr>\n",
       "      <th>4</th>\n",
       "      <td>the clever programmer</td>\n",
       "      <td>1931</td>\n",
       "      <td>2528</td>\n",
       "      <td>0.7638</td>\n",
       "      <td>1.09</td>\n",
       "    </tr>\n",
       "  </tbody>\n",
       "</table>\n",
       "</div>"
      ],
      "text/plain": [
       "                                 Top queries  Clicks  Impressions     CTR  \\\n",
       "0                number guessing game python    5223        14578  0.3583   \n",
       "1                        thecleverprogrammer    2809         3456  0.8128   \n",
       "2           python projects with source code    2077        73380  0.0283   \n",
       "3  classification report in machine learning    2012         4959  0.4057   \n",
       "4                      the clever programmer    1931         2528  0.7638   \n",
       "\n",
       "   Position  \n",
       "0      1.61  \n",
       "1      1.02  \n",
       "2      5.94  \n",
       "3      1.28  \n",
       "4      1.09  "
      ]
     },
     "execution_count": 23,
     "metadata": {},
     "output_type": "execute_result"
    }
   ],
   "source": [
    "data.head(5)"
   ]
  },
  {
   "cell_type": "code",
   "execution_count": null,
   "id": "cc04d790",
   "metadata": {},
   "outputs": [],
   "source": []
  }
 ],
 "metadata": {
  "kernelspec": {
   "display_name": "Python 3 (ipykernel)",
   "language": "python",
   "name": "python3"
  },
  "language_info": {
   "codemirror_mode": {
    "name": "ipython",
    "version": 3
   },
   "file_extension": ".py",
   "mimetype": "text/x-python",
   "name": "python",
   "nbconvert_exporter": "python",
   "pygments_lexer": "ipython3",
   "version": "3.10.4"
  }
 },
 "nbformat": 4,
 "nbformat_minor": 5
}
